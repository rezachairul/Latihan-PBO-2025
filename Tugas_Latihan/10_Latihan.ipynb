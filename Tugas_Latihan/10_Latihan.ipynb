{
 "cells": [
  {
   "cell_type": "code",
   "execution_count": 8,
   "id": "f22741c5",
   "metadata": {},
   "outputs": [],
   "source": [
    "import os"
   ]
  },
  {
   "cell_type": "code",
   "execution_count": null,
   "id": "12421519",
   "metadata": {},
   "outputs": [
    {
     "name": "stdout",
     "output_type": "stream",
     "text": [
      "Isi file:  <function baca_file at 0x0000028187778360>\n"
     ]
    }
   ],
   "source": [
    "class FileNotFoundException(Exception):\n",
    "    def __init__(self, message=\"File tidak ditemukan\"):\n",
    "        super().__init__(message)\n",
    "\n",
    "class FileToolLargeError(Exception):\n",
    "    def __init__(self, message=\"File Terlalu Besar\"):\n",
    "        super().__init__(message)\n",
    "\n",
    "def baca_file(nama_file):\n",
    "    file = open(nama_file, \"r\")\n",
    "    \n",
    "    if os.os.path.getsize(nama_file) > 1024:\n",
    "        raise FileToolLargeError(\"File terlalu besar, maksimal adalah 1024 Byte, file anda berukuran \")\n",
    "\n",
    "\n",
    "try:\n",
    "    nama_file = \"10_Latihan.txt\"\n",
    "    print (\"Isi file: \", nama_file)\n",
    "except (FileNotFoundError, FileToolLargeError) as e:\n",
    "    print (e)\n",
    "\n"
   ]
  }
 ],
 "metadata": {
  "kernelspec": {
   "display_name": "base",
   "language": "python",
   "name": "python3"
  },
  "language_info": {
   "codemirror_mode": {
    "name": "ipython",
    "version": 3
   },
   "file_extension": ".py",
   "mimetype": "text/x-python",
   "name": "python",
   "nbconvert_exporter": "python",
   "pygments_lexer": "ipython3",
   "version": "3.12.9"
  }
 },
 "nbformat": 4,
 "nbformat_minor": 5
}
