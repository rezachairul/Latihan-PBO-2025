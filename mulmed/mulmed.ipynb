{
 "cells": [
  {
   "cell_type": "markdown",
   "id": "6388c4cd",
   "metadata": {},
   "source": [
    "# 🧪 Tugas Hands-On 1: Pemrosesan Audio\n",
    "\n",
    "> 📌 **Instruksi Umum:**\n",
    "Baca dengan seksama dan teliti setiap perintah berikut. Semua rekaman wajib dalam format `.wav`, dan visualisasi yang diminta harus menyertakan **waveform** dan **spectrogram**."
   ]
  },
  {
   "cell_type": "markdown",
   "id": "1c45cb1e",
   "metadata": {},
   "source": [
    "## 🔊 Soal 1 – Variasi Volume Suara\n",
    "\n",
    "🎙 **Tugas:**\n",
    "Rekamlah suara Anda sendiri selama **20 detik** dengan membaca teks berita. Gunakan variasi suara berikut:\n",
    "\n",
    "- 🎧 **0-5 detik**: Suara sangat pelan & berbisik  \n",
    "- 🗣 **5-10 detik**: Suara normal  \n",
    "- 📢 **10-15 detik**: Suara keras  \n",
    "- 🤪 **15-20 detik**: Suara cempreng (dibuat-buat)  \n",
    "- 📣 **(Tambahan)**: Suara berteriak selama 5 detik terakhir\n",
    "\n",
    "📝 **Catatan:**\n",
    "- Simpan dalam format **WAV**\n",
    "- Visualisasikan **waveform** dan **spectrogram**\n",
    "- Berikan **penjelasan singkat** tentang hasil visualisasi"
   ]
  },
  {
   "cell_type": "code",
   "execution_count": null,
   "id": "a5a6098e",
   "metadata": {},
   "outputs": [],
   "source": [
    "# Soal 1 - Variasi Volume Suara\n",
    "#  Dibutuhkan library: numpy, sounddevice, scipy, matplotlib, os, librosa => pip install numpy sounddevice scipy matplotlib librosa\n",
    "import sounddevice as sd\n",
    "from scipy.io.wavfile import write\n",
    "import numpy as np\n",
    "import matplotlib.pyplot as plt\n",
    "import os\n",
    "import librosa\n",
    "import librosa.display"
   ]
  },
  {
   "cell_type": "code",
   "execution_count": null,
   "id": "8ab08fa4",
   "metadata": {},
   "outputs": [],
   "source": [
    "# --- PARAMETER ---\n",
    "duration = 30  # durasi rekaman dalam detik (diubah ke 30 detik)\n",
    "fs = 44100     # frekuensi sampling\n",
    "filename = \"variasi_suara_30_detik.wav\""
   ]
  },
  {
   "cell_type": "code",
   "execution_count": null,
   "id": "bce79f24",
   "metadata": {},
   "outputs": [],
   "source": [
    "# --- REKAMAN SUARA ---\n",
    "print(\"🎙 Mulai merekam suara selama 30 detik...\")\n",
    "recording = sd.rec(int(duration * fs), samplerate=fs, channels=1, dtype='int16')\n",
    "sd.wait()\n",
    "write(filename, fs, recording)\n",
    "print(\"✅ Rekaman selesai dan disimpan sebagai\", filename)"
   ]
  },
  {
   "cell_type": "code",
   "execution_count": null,
   "id": "5c5463c7",
   "metadata": {},
   "outputs": [],
   "source": [
    "# --- VISUALISASI WAVEFORM DAN SPECTROGRAM ---\n",
    "# Load ulang dengan librosa untuk analisis\n",
    "y, sr = librosa.load(filename, sr=fs)"
   ]
  },
  {
   "cell_type": "code",
   "execution_count": null,
   "id": "10bfdee8",
   "metadata": {},
   "outputs": [],
   "source": [
    "# Buat time axis\n",
    "time = np.linspace(0, len(y)/sr, len(y))"
   ]
  },
  {
   "cell_type": "code",
   "execution_count": null,
   "id": "a9cac88f",
   "metadata": {},
   "outputs": [],
   "source": [
    "# Plot Waveform\n",
    "plt.figure(figsize=(14, 6))\n",
    "\n",
    "plt.subplot(2, 1, 1)\n",
    "plt.plot(time, y, color='steelblue')\n",
    "plt.title('Waveform - Variasi Volume Suara')\n",
    "plt.xlabel('Waktu (detik)')\n",
    "plt.ylabel('Amplitudo')"
   ]
  },
  {
   "cell_type": "code",
   "execution_count": null,
   "id": "32904b3d",
   "metadata": {},
   "outputs": [],
   "source": [
    "# Plot Spectrogram\n",
    "plt.subplot(2, 1, 2)\n",
    "D = librosa.amplitude_to_db(np.abs(librosa.stft(y)), ref=np.max)\n",
    "librosa.display.specshow(D, sr=sr, x_axis='time', y_axis='log', cmap='magma')\n",
    "plt.colorbar(format='%+2.0f dB')\n",
    "plt.title('Spectrogram - Variasi Volume Suara')\n",
    "\n",
    "plt.tight_layout()\n",
    "plt.show()"
   ]
  },
  {
   "cell_type": "code",
   "execution_count": null,
   "id": "0bf631b7",
   "metadata": {},
   "outputs": [],
   "source": [
    "# --- PENJELASAN SINGKAT ---\n",
    "print(\"\\n📊 Penjelasan Singkat:\")\n",
    "print(\"- Pada bagian awal (0-5 detik), amplitudo kecil menunjukkan suara berbisik.\")\n",
    "print(\"- Antara 5-10 detik, amplitudo lebih stabil dan sedang, menunjukkan suara normal.\")\n",
    "print(\"- Pada 10-15 detik, amplitudo meningkat drastis karena suara keras.\")\n",
    "print(\"- Bagian 15-20 detik terlihat variasi frekuensi yang aneh karena suara cempreng.\")\n",
    "print(\"- Bagian 20-25 detik memperlihatkan suara yang semakin keras.\")\n",
    "print(\"- Bagian 25-30 detik menunjukkan peningkatan amplitudo besar karena suara berteriak.\")"
   ]
  },
  {
   "cell_type": "markdown",
   "id": "ad315968",
   "metadata": {},
   "source": [
    "## 🎵 Soal 2 – Fading Musik\n",
    "\n",
    "🎼 **Tugas:**\n",
    "- Cari musik berdurasi < 30 detik **tanpa efek fading**\n",
    "- Terapkan **fading-in** di awal dan **fading-out** di akhir\n",
    "- Tampilkan hasil visualisasinya jika perlu"
   ]
  },
  {
   "cell_type": "code",
   "execution_count": null,
   "id": "715b8926",
   "metadata": {},
   "outputs": [],
   "source": [
    "# Soal 2 - Fading Musik\n",
    "#  Dibutuhkan library: pydub, numpy, matplotlib => pip install pydub numpy matplotlib\n",
    "from pydub import AudioSegment\n",
    "from pydub.playback import play\n",
    "import matplotlib.pyplot as plt\n",
    "import numpy as np\n",
    "import os\n",
    "\n",
    "# Set path ke FFmpeg untuk pydub\n",
    "# Pastikan sudah menginstal FFmpeg dan menambahkan ke PATH sistem\n",
    "os.environ[\"PATH\"] += os.pathsep + r\"C:\\ffmpeg-7.1.1-essentials_build\\bin\""
   ]
  },
  {
   "cell_type": "code",
   "execution_count": 4,
   "id": "8d2d0af1",
   "metadata": {},
   "outputs": [
    {
     "data": {
      "text/plain": [
       "<_io.BufferedRandom name='musik_30_detik.wav'>"
      ]
     },
     "execution_count": 4,
     "metadata": {},
     "output_type": "execute_result"
    }
   ],
   "source": [
    "# Load file audio (pastikan formatnya benar, misal WAV atau MP3)\n",
    "audio = AudioSegment.from_file(\"One_Ok_rock_Tropical_therapy.mp3\")\n",
    "# Jika audio lebih dari 30 detik, ambil 30 detik pertama\n",
    "if len(audio) > 30000:\n",
    "    audio = audio[:30000]\n",
    "# Simpan audio yang sudah dipotong\n",
    "audio.export(\"musik_30_detik.wav\", format=\"wav\")"
   ]
  },
  {
   "cell_type": "code",
   "execution_count": 5,
   "id": "ebfa8419",
   "metadata": {},
   "outputs": [],
   "source": [
    "# Durasi fade in dan fade out dalam milidetik\n",
    "fade_duration = 3000  # 3 detik"
   ]
  },
  {
   "cell_type": "code",
   "execution_count": 6,
   "id": "fd8b6d41",
   "metadata": {},
   "outputs": [],
   "source": [
    "# Terapkan efek fade in dan fade out\n",
    "faded_audio = audio.fade_in(fade_duration).fade_out(fade_duration)"
   ]
  },
  {
   "cell_type": "code",
   "execution_count": 9,
   "id": "92147225",
   "metadata": {},
   "outputs": [
    {
     "name": "stdout",
     "output_type": "stream",
     "text": [
      "✔️ Fading selesai. File disimpan sebagai 'musik_faded.wav'.\n"
     ]
    }
   ],
   "source": [
    "# Simpan hasil\n",
    "faded_audio.export(\"musik_faded.wav\", format=\"wav\")\n",
    "print(\"✔️ Fading selesai. File disimpan sebagai 'musik_faded.wav'.\")"
   ]
  },
  {
   "cell_type": "code",
   "execution_count": 10,
   "id": "16474716",
   "metadata": {},
   "outputs": [
    {
     "data": {
      "image/png": "[encoded data removed]",
      "text/plain": [
       "<Figure size 1000x300 with 1 Axes>"
      ]
     },
     "metadata": {},
     "output_type": "display_data"
    }
   ],
   "source": [
    "# --- (Opsional) Visualisasi Waveform ---\n",
    "# Konversi ke array numpy\n",
    "samples = np.array(faded_audio.get_array_of_samples())\n",
    "\n",
    "plt.figure(figsize=(10, 3))\n",
    "plt.plot(samples, color='blue')\n",
    "plt.title(\"Waveform setelah Fading\")\n",
    "plt.xlabel(\"Sample Index\")\n",
    "plt.ylabel(\"Amplitude\")\n",
    "plt.tight_layout()\n",
    "plt.show()"
   ]
  },
  {
   "cell_type": "markdown",
   "id": "a04909e4",
   "metadata": {},
   "source": [
    "## 🧹 Soal 3 – Filter Noise\n",
    "\n",
    "🔊 **Tugas:**\n",
    "Rekam suara Anda berbicara di dekat sumber noise (kipas, AC, mesin) selama ±10 detik.\n",
    "\n",
    "- Gunakan **filter equalisasi**:  \n",
    "  - High-pass  \n",
    "  - Low-pass  \n",
    "  - Band-pass  \n",
    "- Coba berbagai **nilai cutoff**\n",
    "- Visualisasikan hasil tiap filter (waveform & spektrogram)\n",
    "\n",
    "🧠 **Analisis:**\n",
    "- Jenis noise yang muncul\n",
    "- Filter yang paling efektif\n",
    "- Nilai cutoff terbaik\n",
    "- Kualitas suara setelah filtering"
   ]
  },
  {
   "cell_type": "code",
   "execution_count": null,
   "id": "7b9fa574",
   "metadata": {},
   "outputs": [],
   "source": [
    "# Soal 3 - Filter Noise\n",
    "#  Dibutuhkan library: scipy, numpy, matplotlib => pip install scipy numpy matplotlib"
   ]
  },
  {
   "cell_type": "markdown",
   "id": "9e2fdda9",
   "metadata": {},
   "source": [
    "## 🐿 Soal 4 – Pitch Shifting (Chipmunk Effect)\n",
    "\n",
    "📈 **Tugas:**\n",
    "Gunakan rekaman dari Soal 1, lalu ubah pitch-nya agar terdengar seperti **chipmunk**:\n",
    "\n",
    "- Lakukan **pitch shifting naik** dengan:\n",
    "  - Pitch +7\n",
    "  - Pitch +12\n",
    "- Visualisasikan **waveform & spektrogram** sebelum dan sesudah\n",
    "- Gabungkan kedua versi hasil pitch shift ke dalam **satu file audio**\n",
    "\n",
    "📌 **Penjelasan:**\n",
    "- Parameter pitch shifting yang digunakan\n",
    "- Perbedaan visual (waveform & spektrogram)\n",
    "- Dampak perubahan pitch terhadap kualitas dan kejelasan suara"
   ]
  },
  {
   "cell_type": "code",
   "execution_count": null,
   "id": "7b02e833",
   "metadata": {},
   "outputs": [],
   "source": [
    "# Soal 4 - Pitch Shifting\n",
    "#  Dibutuhkan library: librosa, numpy, matplotlib => pip install librosa numpy matplotlib\n",
    "import librosa\n",
    "import librosa.display\n",
    "import numpy as np\n",
    "import soundfile as sf\n",
    "import matplotlib.pyplot as plt"
   ]
  },
  {
   "cell_type": "code",
   "execution_count": null,
   "id": "d999b9f8",
   "metadata": {},
   "outputs": [],
   "source": [
    "# --- LOAD FILE ASLI ---\n",
    "filename = 'variasi_suara_30_detik.wav'\n",
    "y, sr = librosa.load(filename, sr=None)"
   ]
  },
  {
   "cell_type": "code",
   "execution_count": null,
   "id": "c9bbc3c7",
   "metadata": {},
   "outputs": [],
   "source": [
    "# --- PITCH SHIFTING ---\n",
    "y_pitch_7 = librosa.effects.pitch_shift(y, sr=sr, n_steps=7)\n",
    "y_pitch_12 = librosa.effects.pitch_shift(y, sr=sr, n_steps=12)"
   ]
  },
  {
   "cell_type": "code",
   "execution_count": null,
   "id": "9dcf9777",
   "metadata": {},
   "outputs": [],
   "source": [
    "# --- SIMPAN HASIL PITCH SHIFTING ---\n",
    "sf.write('chipmunk_pitch_+7.wav', y_pitch_7, sr)\n",
    "sf.write('chipmunk_pitch_+12.wav', y_pitch_12, sr)"
   ]
  },
  {
   "cell_type": "code",
   "execution_count": null,
   "id": "a984e956",
   "metadata": {},
   "outputs": [],
   "source": [
    "# --- GABUNGKAN KEDUA AUDIO PITCH-SHIFTED ---\n",
    "combined = np.concatenate((y_pitch_7, y_pitch_12))\n",
    "sf.write('chipmunk_combined.wav', combined, sr)\n",
    "print(\"✅ Pitch-shifted audio disimpan sebagai 'chipmunk_combined.wav'\")"
   ]
  },
  {
   "cell_type": "code",
   "execution_count": null,
   "id": "037e852e",
   "metadata": {},
   "outputs": [],
   "source": [
    "# --- VISUALISASI SEBELUM & SESUDAH PITCH SHIFT ---\n",
    "def plot_wave_spec(y_data, sr, title):\n",
    "    plt.figure(figsize=(14, 5))\n",
    "\n",
    "    # Waveform\n",
    "    plt.subplot(1, 2, 1)\n",
    "    librosa.display.waveshow(y_data, sr=sr)\n",
    "    plt.title(f'Waveform - {title}')\n",
    "    plt.xlabel('Waktu (detik)')\n",
    "    plt.ylabel('Amplitudo')\n",
    "\n",
    "    # Spectrogram\n",
    "    plt.subplot(1, 2, 2)\n",
    "    D = librosa.amplitude_to_db(np.abs(librosa.stft(y_data)), ref=np.max)\n",
    "    librosa.display.specshow(D, sr=sr, x_axis='time', y_axis='log', cmap='magma')\n",
    "    plt.colorbar(format='%+2.0f dB')\n",
    "    plt.title(f'Spectrogram - {title}')\n",
    "\n",
    "    plt.tight_layout()\n",
    "    plt.show()"
   ]
  },
  {
   "cell_type": "code",
   "execution_count": null,
   "id": "a8e55561",
   "metadata": {},
   "outputs": [],
   "source": [
    "# --- TAMPILKAN VISUALISASI ---\n",
    "plot_wave_spec(y, sr, 'Asli')\n",
    "plot_wave_spec(y_pitch_7, sr, 'Pitch +7 (Chipmunk)')\n",
    "plot_wave_spec(y_pitch_12, sr, 'Pitch +12 (Lebih Chipmunk)')"
   ]
  },
  {
   "cell_type": "markdown",
   "id": "271dc1cf",
   "metadata": {},
   "source": [
    "\n",
    "## 🎚 Soal 5 – Normalisasi & Loudness Optimization\n",
    "\n",
    "📉 **Tugas:**\n",
    "Lakukan **normalisasi dan loudness optimization** terhadap hasil pitch shift pada Soal 4.\n",
    "\n",
    "- Target loudness: **-18 LUFS**\n",
    "- Visualisasikan **sebelum & sesudah**\n",
    "\n",
    "🧠 **Analisis:**\n",
    "- Perubahan dinamika suara\n",
    "- Normalisasi peak vs normalisasi LUFS\n",
    "- Kualitas suara pasca-optimalisasi\n",
    "- Kelebihan & kekurangan optimasi loudness"
   ]
  },
  {
   "cell_type": "code",
   "execution_count": null,
   "id": "a5eb8ce9",
   "metadata": {},
   "outputs": [],
   "source": [
    "# Soal 5 - Normalisasi & Loudness Optimization\n",
    "#  Dibutuhkan library: librosa, soundfile, pyloudnorm, matplotlib => pip install librosa soundfile pyloudnorm matplotlib\n",
    "\n",
    "import librosa\n",
    "import soundfile as sf\n",
    "import pyloudnorm as pyln\n",
    "import matplotlib.pyplot as plt\n",
    "import numpy as np\n",
    "import librosa.display"
   ]
  },
  {
   "cell_type": "code",
   "execution_count": null,
   "id": "85d3834d",
   "metadata": {},
   "outputs": [],
   "source": [
    "# --- LOAD FILE HASIL PITCH SHIFT ---\n",
    "filename = 'chipmunk_combined.wav'\n",
    "y, sr = librosa.load(filename, sr=None)"
   ]
  },
  {
   "cell_type": "code",
   "execution_count": null,
   "id": "e6ccc1e6",
   "metadata": {},
   "outputs": [],
   "source": [
    "# --- NORMALISASI LUFS (TARGET -18 LUFS) ---\n",
    "# Konversi ke float32 dan mono untuk pyloudnorm\n",
    "meter = pyln.Meter(sr)  # menggunakan true peak\n",
    "loudness = meter.integrated_loudness(y)"
   ]
  },
  {
   "cell_type": "code",
   "execution_count": null,
   "id": "daa6df83",
   "metadata": {},
   "outputs": [],
   "source": [
    "print(f'🔊 Loudness sebelum normalisasi: {loudness:.2f} LUFS')"
   ]
  },
  {
   "cell_type": "code",
   "execution_count": null,
   "id": "20bb9d88",
   "metadata": {},
   "outputs": [],
   "source": [
    "# Normalisasi\n",
    "target_loudness = -18.0\n",
    "y_normalized = pyln.normalize.loudness(y, loudness, target_loudness)"
   ]
  },
  {
   "cell_type": "code",
   "execution_count": null,
   "id": "1dab1ed7",
   "metadata": {},
   "outputs": [],
   "source": [
    "# Simpan hasil optimasi loudness\n",
    "output_file = 'chipmunk_loudness_normalized.wav'\n",
    "sf.write(output_file, y_normalized, sr)\n",
    "print(f\"✅ Audio setelah normalisasi loudness disimpan sebagai: {output_file}\")"
   ]
  },
  {
   "cell_type": "code",
   "execution_count": null,
   "id": "709ddc13",
   "metadata": {},
   "outputs": [],
   "source": [
    "# --- VISUALISASI WAVEFORM SEBELUM & SESUDAH ---\n",
    "def plot_comparison_waveform(y_before, y_after, sr):\n",
    "    plt.figure(figsize=(14, 5))\n",
    "\n",
    "    plt.subplot(1, 2, 1)\n",
    "    librosa.display.waveshow(y_before, sr=sr)\n",
    "    plt.title('Waveform - Sebelum Normalisasi')\n",
    "    plt.xlabel('Waktu (detik)')\n",
    "    plt.ylabel('Amplitudo')\n",
    "\n",
    "    plt.subplot(1, 2, 2)\n",
    "    librosa.display.waveshow(y_after, sr=sr)\n",
    "    plt.title('Waveform - Sesudah Normalisasi (-18 LUFS)')\n",
    "    plt.xlabel('Waktu (detik)')\n",
    "    plt.ylabel('Amplitudo')\n",
    "\n",
    "    plt.tight_layout()\n",
    "    plt.show()\n",
    "\n",
    "plot_comparison_waveform(y, y_normalized, sr)"
   ]
  }
 ],
 "metadata": {
  "kernelspec": {
   "display_name": "base",
   "language": "python",
   "name": "python3"
  },
  "language_info": {
   "codemirror_mode": {
    "name": "ipython",
    "version": 3
   },
   "file_extension": ".py",
   "mimetype": "text/x-python",
   "name": "python",
   "nbconvert_exporter": "python",
   "pygments_lexer": "ipython3",
   "version": "3.12.9"
  }
 },
 "nbformat": 4,
 "nbformat_minor": 5
}
