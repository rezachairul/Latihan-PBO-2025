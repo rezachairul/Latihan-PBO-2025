{
 "cells": [
  {
   "cell_type": "markdown",
   "id": "17f1f94a",
   "metadata": {},
   "source": [
    "#Silsilah keluarga ejakk"
   ]
  },
  {
   "cell_type": "code",
   "execution_count": null,
   "id": "34ffa16c",
   "metadata": {},
   "outputs": [],
   "source": [
    "from graphviz import Digraph"
   ]
  },
  {
   "cell_type": "code",
   "execution_count": null,
   "id": "a1520d78",
   "metadata": {},
   "outputs": [],
   "source": [
    "class Orang:\n",
    "    def __init__(self, nama):\n",
    "        self.nama = nama\n",
    "        self.anak = []\n",
    "\n",
    "    def tambah_anak(self, anak):\n",
    "        self.anak.append(anak)\n",
    "\n",
    "    def tambahkan_ke_graphviz(self, dot):\n",
    "        for anak in self.anak:\n",
    "            dot.edge(self.nama, anak.nama)\n",
    "            anak.tambahkan_ke_graphviz(dot)"
   ]
  },
  {
   "cell_type": "code",
   "execution_count": null,
   "id": "4d00a378",
   "metadata": {},
   "outputs": [],
   "source": [
    "# Buat struktur keluarga\n",
    "buyut = Orang(\"Buyut\")\n",
    "\n",
    "# Anak-anak Buyut\n",
    "mbah_supri = Orang(\"Anak 1 (Mbah Supri)\")\n",
    "mbah_parti = Orang(\"Anak 2 (Mbah Parti)\")\n",
    "mbah_ku = Orang(\"Anak 3 (Mbah-ku)\")\n",
    "mbah_yono = Orang(\"Anak 4 (Mbah Yono)\")\n",
    "\n",
    "buyut.tambah_anak(mbah_supri)\n",
    "buyut.tambah_anak(mbah_parti)\n",
    "buyut.tambah_anak(mbah_ku)\n",
    "buyut.tambah_anak(mbah_yono)"
   ]
  },
  {
   "cell_type": "code",
   "execution_count": null,
   "id": "6df0ef6f",
   "metadata": {},
   "outputs": [],
   "source": [
    "# Anak Mbah Supri\n",
    "for i in range(1, 5):\n",
    "    mbah_supri.tambah_anak(Orang(f\"Anak {i}\"))"
   ]
  },
  {
   "cell_type": "code",
   "execution_count": null,
   "id": "dce25845",
   "metadata": {},
   "outputs": [],
   "source": [
    "\n",
    "# Anak Mbah Parti\n",
    "mbah_parti.tambah_anak(Orang(\"Bude Nani\"))\n",
    "mbah_parti.tambah_anak(Orang(\"Pak Eko\"))\n",
    "mbah_parti.tambah_anak(Orang(\"Pakde (lupa nama)\"))"
   ]
  },
  {
   "cell_type": "code",
   "execution_count": null,
   "id": "ccc222fb",
   "metadata": {},
   "outputs": [],
   "source": [
    "# Anak Mbah-ku\n",
    "ayah = Orang(\"Ayah\")\n",
    "ayah.tambah_anak(Orang(\"Aku\"))\n",
    "\n",
    "om_didik = Orang(\"Om Didik\")\n",
    "om_didik.tambah_anak(Orang(\"Andini\"))\n",
    "\n",
    "om_agus = Orang(\"Om Agus\")\n",
    "om_agus.tambah_anak(Orang(\"Cantika\"))\n",
    "\n",
    "tante_nana = Orang(\"Tante Nana\")\n",
    "tante_nana.tambah_anak(Orang(\"Belum punya\"))\n",
    "\n",
    "tante_atik = Orang(\"Tante Atik\")\n",
    "tante_atik.tambah_anak(Orang(\"Al\"))\n",
    "tante_atik.tambah_anak(Orang(\"El\"))\n",
    "\n",
    "umi_afka = Orang(\"Umi Afka\")\n",
    "umi_afka.tambah_anak(Orang(\"Afka\"))\n",
    "\n",
    "mbah_ku.tambah_anak(ayah)\n",
    "mbah_ku.tambah_anak(om_didik)\n",
    "mbah_ku.tambah_anak(om_agus)\n",
    "mbah_ku.tambah_anak(tante_nana)\n",
    "mbah_ku.tambah_anak(tante_atik)\n",
    "mbah_ku.tambah_anak(umi_afka)"
   ]
  },
  {
   "cell_type": "code",
   "execution_count": null,
   "id": "6767f46d",
   "metadata": {},
   "outputs": [],
   "source": [
    "# Anak Mbah Yono\n",
    "mbah_yono.tambah_anak(Orang(\"Tante Ene\"))\n",
    "mbah_yono.tambah_anak(Orang(\"Tante Nisa\"))\n",
    "mbah_yono.tambah_anak(Orang(\"Tom Tendorn\"))\n",
    "mbah_yono.tambah_anak(Orang(\"Tante Ica\"))"
   ]
  },
  {
   "cell_type": "code",
   "execution_count": null,
   "id": "a36a687b",
   "metadata": {},
   "outputs": [],
   "source": [
    "# Visualisasi dengan Graphviz\n",
    "dot = Digraph(comment=\"Silsilah Keluarga\", format='png')\n",
    "dot.attr(rankdir='TB')  # dari atas ke bawah\n",
    "buyut.tambahkan_ke_graphviz(dot)\n",
    "\n",
    "# Simpan dan tampilkan\n",
    "dot.render('silsilah_keluarga', view=True)  # akan buat silsilah_keluarga.png dan buka otomatis"
   ]
  }
 ],
 "metadata": {
  "kernelspec": {
   "display_name": "base",
   "language": "python",
   "name": "python3"
  },
  "language_info": {
   "codemirror_mode": {
    "name": "ipython",
    "version": 3
   },
   "file_extension": ".py",
   "mimetype": "text/x-python",
   "name": "python",
   "nbconvert_exporter": "python",
   "pygments_lexer": "ipython3",
   "version": "3.12.9"
  }
 },
 "nbformat": 4,
 "nbformat_minor": 5
}
