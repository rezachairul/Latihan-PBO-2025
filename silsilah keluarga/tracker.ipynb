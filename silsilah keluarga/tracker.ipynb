{
 "cells": [
  {
   "cell_type": "code",
   "execution_count": 13,
   "id": "1cacfbea",
   "metadata": {},
   "outputs": [],
   "source": [
    "import random\n",
    "from datetime import datetime"
   ]
  },
  {
   "cell_type": "code",
   "execution_count": 14,
   "id": "23ed81ae",
   "metadata": {},
   "outputs": [],
   "source": [
    "# Target\n",
    "target_username = \"aq_taylorrrswifttt\""
   ]
  },
  {
   "cell_type": "code",
   "execution_count": 18,
   "id": "9bb1b652",
   "metadata": {},
   "outputs": [],
   "source": [
    "# Daftar lengkap provinsi dan kota di Indonesia\n",
    "provinces = [\n",
    "    \"Aceh\", \"Sumatera Utara\", \"Sumatera Barat\", \"Riau\", \"Kepulauan Riau\",\n",
    "    \"Jambi\", \"Bengkulu\", \"Sumatera Selatan\", \"Kepulauan Bangka Belitung\",\n",
    "    \"Lampung\", \"Banten\", \"Jawa Barat\", \"DKI Jakarta\", \"Jawa Tengah\",\n",
    "    \"DI Yogyakarta\", \"Jawa Timur\", \"Bali\", \"Nusa Tenggara Barat\",\n",
    "    \"Nusa Tenggara Timur\", \"Kalimantan Barat\", \"Kalimantan Tengah\",\n",
    "    \"Kalimantan Selatan\", \"Kalimantan Timur\", \"Kalimantan Utara\",\n",
    "    \"Sulawesi Utara\", \"Sulawesi Tengah\", \"Sulawesi Selatan\",\n",
    "    \"Sulawesi Tenggara\", \"Gorontalo\", \"Sulawesi Barat\", \"Maluku\",\n",
    "    \"Maluku Utara\", \"Papua\", \"Papua Barat\", \"Papua Tengah\",\n",
    "    \"Papua Pegunungan\", \"Papua Selatan\", \"Papua Barat Daya\"\n",
    "]\n",
    "\n",
    "cities = [\n",
    "    # Sumatera\n",
    "    \"Banda Aceh\", \"Medan\", \"Padang\", \"Pekanbaru\", \"Batam\", \"Jambi\",\n",
    "    \"Bengkulu\", \"Palembang\", \"Pangkalpinang\", \"Bandar Lampung\",\n",
    "    \n",
    "    # Jawa\n",
    "    \"Serang\", \"Tangerang\", \"Bandung\", \"Bogor\", \"Jakarta\", \"Semarang\",\n",
    "    \"Yogyakarta\", \"Surabaya\", \"Malang\", \"Surakarta\",\n",
    "    \n",
    "    # Bali & Nusa Tenggara\n",
    "    \"Denpasar\", \"Mataram\", \"Kupang\",\n",
    "    \n",
    "    # Kalimantan\n",
    "    \"Pontianak\", \"Palangka Raya\", \"Banjarmasin\", \"Samarinda\", \"Tarakan\",\n",
    "    \n",
    "    # Sulawesi\n",
    "    \"Manado\", \"Palu\", \"Makassar\", \"Kendari\", \"Gorontalo\", \"Mamuju\",\n",
    "    \n",
    "    # Maluku & Papua\n",
    "    \"Ambon\", \"Ternate\", \"Jayapura\", \"Sorong\", \"Merauke\", \"Wamena\"\n",
    "]"
   ]
  },
  {
   "cell_type": "code",
   "execution_count": 19,
   "id": "41208f78",
   "metadata": {},
   "outputs": [],
   "source": [
    "# Gabungkan semua lokasi dengan format 'Kota, Indonesia'\n",
    "random_locations = [f\"{province}, Indonesia\" for province in provinces] + [f\"{city}, Indonesia\" for city in cities]"
   ]
  },
  {
   "cell_type": "code",
   "execution_count": 22,
   "id": "fe24cf87",
   "metadata": {},
   "outputs": [],
   "source": [
    "def mock_attack(username):\n",
    "    try:\n",
    "        # Pilih lokasi acak + tambahkan detail koordinat dummy\n",
    "        location = random.choice(random_locations)\n",
    "        latitude = round(random.uniform(-6.0, -11.0), 4)\n",
    "        longitude = round(random.uniform(95.0, 141.0), 4)\n",
    "        \n",
    "        return {\n",
    "            \"username\": username,\n",
    "            \"predicted_location\": location,\n",
    "            \"coordinates\": f\"{latitude}, {longitude}\",\n",
    "            \"accuracy\": f\"{random.randint(50, 95)}%\",\n",
    "            \"timestamp\": datetime.now().strftime(\"%Y-%m-%d %H:%M:%S\"),\n",
    "            \"method\": \"Simulasi: GeoIP Inference + Metadata Analysis\"\n",
    "        }\n",
    "    except Exception as e:\n",
    "        return {\"error\": str(e)}"
   ]
  },
  {
   "cell_type": "code",
   "execution_count": 23,
   "id": "26ba7cfb",
   "metadata": {},
   "outputs": [
    {
     "name": "stdout",
     "output_type": "stream",
     "text": [
      "\n",
      "[!] HASIL SERANGAN SIMULASI (Cakupan Seluruh Indonesia):\n",
      "{\n",
      "  \"username\": \"aq_taylorrrswifttt\",\n",
      "  \"predicted_location\": \"Palembang, Indonesia\",\n",
      "  \"coordinates\": \"-6.8966, 104.1197\",\n",
      "  \"accuracy\": \"74%\",\n",
      "  \"timestamp\": \"2025-04-11 07:59:08\",\n",
      "  \"method\": \"Simulasi: GeoIP Inference + Metadata Analysis\"\n",
      "}\n"
     ]
    }
   ],
   "source": [
    "\n",
    "# Jalankan serangan\n",
    "attack_result = mock_attack(target_username)\n",
    "print(\"\\n[!] HASIL SERANGAN SIMULASI (Cakupan Seluruh Indonesia):\")\n",
    "print(json.dumps(attack_result, indent=2, ensure_ascii=False))"
   ]
  }
 ],
 "metadata": {
  "kernelspec": {
   "display_name": "base",
   "language": "python",
   "name": "python3"
  },
  "language_info": {
   "codemirror_mode": {
    "name": "ipython",
    "version": 3
   },
   "file_extension": ".py",
   "mimetype": "text/x-python",
   "name": "python",
   "nbconvert_exporter": "python",
   "pygments_lexer": "ipython3",
   "version": "3.12.9"
  }
 },
 "nbformat": 4,
 "nbformat_minor": 5
}
