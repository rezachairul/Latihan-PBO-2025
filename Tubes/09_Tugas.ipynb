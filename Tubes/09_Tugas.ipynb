{
 "cells": [
  {
   "cell_type": "code",
   "execution_count": null,
   "id": "2fcfdb97",
   "metadata": {},
   "outputs": [],
   "source": [
    "#Penggunaan * untuk UNPACK seluruh elemen dalam list"
   ]
  },
  {
   "cell_type": "code",
   "execution_count": null,
   "id": "4d126b64",
   "metadata": {},
   "outputs": [],
   "source": [
    "#Versi 1\n",
    "def unpack_list(*data): #* digunakan untuk mengumpulkan semua argumen yang diberikan ke dalam tuple\n",
    "    print(data)\n",
    "    for item in data:\n",
    "        print(item)\n",
    "\n",
    "unpack_list(1, 2, 3, 4, 5)\n",
    "unpack_list(\"a\", \"b\", \"c\", \"d\", \"e\")"
   ]
  },
  {
   "cell_type": "code",
   "execution_count": null,
   "id": "fcf21d9c",
   "metadata": {},
   "outputs": [],
   "source": [
    "# Versi 2\n",
    "def unpack_list(a, b, c, d, e):\n",
    "    print(a, b, c, d, e)\n",
    "\n",
    "list2 = [1, 2, 3, 4, 5]\n",
    "unpack_list(*list2) #* digunakan untuk UNPACK seluruh elemen dalam list"
   ]
  },
  {
   "cell_type": "code",
   "execution_count": null,
   "id": "1339e2f5",
   "metadata": {},
   "outputs": [],
   "source": [
    "# Contoh nyata\n",
    "imp = list()\n",
    "for i in range(3):\n",
    "    t = list(map(int, input().split()))\n",
    "    imp.append(t)"
   ]
  },
  {
   "cell_type": "code",
   "execution_count": null,
   "id": "0e126446",
   "metadata": {},
   "outputs": [],
   "source": [
    "print(imp)"
   ]
  }
 ],
 "metadata": {
  "kernelspec": {
   "display_name": "base",
   "language": "python",
   "name": "python3"
  },
  "language_info": {
   "codemirror_mode": {
    "name": "ipython",
    "version": 3
   },
   "file_extension": ".py",
   "mimetype": "text/x-python",
   "name": "python",
   "nbconvert_exporter": "python",
   "pygments_lexer": "ipython3",
   "version": "3.12.9"
  }
 },
 "nbformat": 4,
 "nbformat_minor": 5
}
